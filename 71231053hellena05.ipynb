{
  "nbformat": 4,
  "nbformat_minor": 0,
  "metadata": {
    "colab": {
      "provenance": []
    },
    "kernelspec": {
      "name": "python3",
      "display_name": "Python 3"
    },
    "language_info": {
      "name": "python"
    }
  },
  "cells": [
    {
      "cell_type": "markdown",
      "source": [
        "soal 1"
      ],
      "metadata": {
        "id": "YMmuuevthUmi"
      }
    },
    {
      "cell_type": "code",
      "source": [
        "def kali_dan_jumlah(a, b):\n",
        "    if b == 0:\n",
        "        return 0\n",
        "    else:\n",
        "        return a + kali_dan_jumlah(a, b - 1)\n",
        "\n",
        "def tampilkan_perkalian(a, b):\n",
        "    faktor = '+'.join([f\"{a}\" for _ in range(b)])\n",
        "    hasil = kali_dan_jumlah(a, b)\n",
        "    print(f\"{a} x {b} = {faktor} = {hasil}\")\n",
        "\n",
        "angka1 = int(input(\"Masukkan bilangan pertama: \"))\n",
        "angka2 = int(input(\"Masukkan bilangan kedua: \"))\n",
        "\n",
        "tampilkan_perkalian(angka1, angka2)"
      ],
      "metadata": {
        "colab": {
          "base_uri": "https://localhost:8080/"
        },
        "id": "k28sOF1mh_VY",
        "outputId": "429d1c24-3753-43b1-9488-59234a5df296"
      },
      "execution_count": 2,
      "outputs": [
        {
          "output_type": "stream",
          "name": "stdout",
          "text": [
            "Masukkan bilangan pertama: 5\n",
            "Masukkan bilangan kedua: 6\n",
            "5 x 6 = 5+5+5+5+5+5 = 30\n"
          ]
        }
      ]
    },
    {
      "cell_type": "markdown",
      "source": [
        "soal 2"
      ],
      "metadata": {
        "id": "fxKF1McoibFh"
      }
    },
    {
      "cell_type": "code",
      "source": [
        "def ganjil(bawah, atas):\n",
        "    if bawah < atas:\n",
        "        deret_ganjil = [bilangan for bilangan in range(bawah, atas + 1) if bilangan % 2 != 0]\n",
        "    else:\n",
        "        deret_ganjil = [bilangan for bilangan in range(batas_atas, batas_bawah + 1) if bilangan % 2 != 0]\n",
        "\n",
        "    return deret_ganjil\n",
        "\n",
        "\n",
        "batas_bawah = int(input(\"Masukkan batas bawah: \"))\n",
        "batas_atas = int(input(\"Masukkan batas atas: \"))\n",
        "\n",
        "\n",
        "hasil_ganjil = ganjil(batas_bawah, batas_atas)\n",
        "print(\"Deret bilangan ganjil:\", hasil_ganjil)"
      ],
      "metadata": {
        "colab": {
          "base_uri": "https://localhost:8080/"
        },
        "id": "YHStKPl6ictR",
        "outputId": "ace7075f-9e88-4fca-b21e-671f2fc7c2ef"
      },
      "execution_count": 3,
      "outputs": [
        {
          "output_type": "stream",
          "name": "stdout",
          "text": [
            "Masukkan batas bawah: 10\n",
            "Masukkan batas atas: 30\n",
            "Deret bilangan ganjil: [11, 13, 15, 17, 19, 21, 23, 25, 27, 29]\n"
          ]
        }
      ]
    },
    {
      "cell_type": "markdown",
      "source": [
        "Soal 3"
      ],
      "metadata": {
        "id": "Ru78y_aDmrot"
      }
    },
    {
      "cell_type": "code",
      "source": [
        "def hitung_ips(jumlah_mata_kuliah):\n",
        "    total_sks = jumlah_mata_kuliah * 3\n",
        "    total_bobot = 0\n",
        "\n",
        "    for i in range(jumlah_mata_kuliah):\n",
        "        nilai = input(f\"Masukkan nilai mata kuliah {i + 1} (A/B/C/D): \").upper()\n",
        "\n",
        "        if nilai == 'A':\n",
        "            total_bobot += 4 * 3\n",
        "        elif nilai == 'B':\n",
        "            total_bobot += 3 * 3\n",
        "        elif nilai == 'C':\n",
        "            total_bobot += 2 * 3\n",
        "        elif nilai == 'D':\n",
        "            total_bobot += 1 * 3\n",
        "        else:\n",
        "            print(\"Input tidak valid. Coba masukkan dengan huruf kapital (A/B/C/D).\")\n",
        "            return None\n",
        "\n",
        "    ips = total_bobot / total_sks\n",
        "    return ips\n",
        "\n",
        "\n",
        "jumlah_mata_kuliah = int(input(\"Masukkan jumlah mata kuliah: \"))\n",
        "\n",
        "\n",
        "hasil_ips = hitung_ips(jumlah_mata_kuliah)\n",
        "\n",
        "\n",
        "if hasil_ips is not None:\n",
        "    print(f\"IPS yang diperoleh: {hasil_ips:.2f}\")\n",
        "\n"
      ],
      "metadata": {
        "colab": {
          "base_uri": "https://localhost:8080/"
        },
        "id": "JFzHgORJmuI-",
        "outputId": "c1c449c7-9e48-4f41-ff39-06b12082c27f"
      },
      "execution_count": 4,
      "outputs": [
        {
          "output_type": "stream",
          "name": "stdout",
          "text": [
            "Masukkan jumlah mata kuliah: 4\n",
            "Masukkan nilai mata kuliah 1 (A/B/C/D): A\n",
            "Masukkan nilai mata kuliah 2 (A/B/C/D): C\n",
            "Masukkan nilai mata kuliah 3 (A/B/C/D): D\n",
            "Masukkan nilai mata kuliah 4 (A/B/C/D): B\n",
            "IPS yang diperoleh: 2.50\n"
          ]
        }
      ]
    }
  ]
}